{
 "cells": [
  {
   "cell_type": "markdown",
   "metadata": {},
   "source": [
    "# Run scenarios"
   ]
  },
  {
   "cell_type": "markdown",
   "metadata": {},
   "source": [
    "## Imports"
   ]
  },
  {
   "cell_type": "code",
   "execution_count": null,
   "metadata": {},
   "outputs": [],
   "source": [
    "import papermill as pm\n",
    "import os\n",
    "import numpy as np\n",
    "import pandas as pd\n",
    "from IPython.core.display import display\n",
    "import matplotlib.pyplot as plt"
   ]
  },
  {
   "cell_type": "markdown",
   "metadata": {},
   "source": [
    "## Getting scenarios from folder structure"
   ]
  },
  {
   "cell_type": "code",
   "execution_count": null,
   "metadata": {},
   "outputs": [],
   "source": [
    "scenarios_dir =  './../datasets/polvo/'"
   ]
  },
  {
   "cell_type": "code",
   "execution_count": null,
   "metadata": {},
   "outputs": [],
   "source": [
    "from os.path import join\n",
    "\n",
    "SCENARIOS_DIR = [join(scenarios_dir, file_dir) for file_dir in os.listdir(scenarios_dir)\n",
    "                                                         if file_dir.endswith('scenario')]\n",
    "if len(SCENARIOS_DIR) == 0:\n",
    "    SCENARIOS_DIR = ['']"
   ]
  },
  {
   "cell_type": "code",
   "execution_count": null,
   "metadata": {},
   "outputs": [],
   "source": [
    "from itertools import product    \n",
    "from os.path import join\n",
    "\n",
    "variances = np.asarray([0.25]).tolist()\n",
    "preferences = np.arange(-100, 50, 2.5).tolist()\n",
    "methods = ['affinity_propagation']\n",
    "\n",
    "arguments = product(variances, SCENARIOS_DIR, preferences, methods)\n",
    "\n",
    "output_dirs = [join(SCENARIO_DIR, method) for SCENARIO_DIR in SCENARIOS_DIR for method in methods]"
   ]
  },
  {
   "cell_type": "markdown",
   "metadata": {},
   "source": [
    "## Running experiments"
   ]
  },
  {
   "cell_type": "markdown",
   "metadata": {},
   "source": [
    "### Clearing"
   ]
  },
  {
   "cell_type": "code",
   "execution_count": null,
   "metadata": {},
   "outputs": [],
   "source": [
    "from shutil import rmtree\n",
    "from os import makedirs\n",
    "\n",
    "for output_dir in output_dirs:\n",
    "    rmtree(output_dir, ignore_errors=True)\n",
    "    makedirs(output_dir)"
   ]
  },
  {
   "cell_type": "markdown",
   "metadata": {},
   "source": [
    "### Running"
   ]
  },
  {
   "cell_type": "code",
   "execution_count": null,
   "metadata": {},
   "outputs": [],
   "source": [
    "import ipyparallel as ipp\n",
    "rc = ipp.Client()\n",
    "# dview = rc[:]\n",
    "lview = rc.load_balanced_view();"
   ]
  },
  {
   "cell_type": "code",
   "execution_count": null,
   "metadata": {},
   "outputs": [],
   "source": [
    "def execute_notebook(arguments):\n",
    "    import os\n",
    "    from os.path import join\n",
    "    import papermill as pm\n",
    "    from shutil import copyfile\n",
    "    \n",
    "    variance = arguments[0]\n",
    "    scenario_dir = arguments[1]\n",
    "    preference = arguments[2]\n",
    "    method = arguments[3]\n",
    "    output_dir = join(scenario_dir, method)\n",
    "    \n",
    "    pm.execute_notebook(\n",
    "       method+'.ipynb',\n",
    "       '/tmp/output_variance'+str(variance)+'.ipynb',\n",
    "       parameters = dict(PREFERENCE=preference,\n",
    "                         OUTPUT_DIR=output_dir,\n",
    "                         VARIANCE_FILTER=variance,\n",
    "                         SCENARIO=scenario_dir,\n",
    "                         DATASET_PATH=join(scenario_dir, 'dataset.csv'))\n",
    "    )"
   ]
  },
  {
   "cell_type": "code",
   "execution_count": null,
   "metadata": {},
   "outputs": [],
   "source": [
    "lview.map_sync(execute_notebook, list(arguments));"
   ]
  },
  {
   "cell_type": "markdown",
   "metadata": {},
   "source": [
    "## Recovering results"
   ]
  },
  {
   "cell_type": "code",
   "execution_count": null,
   "metadata": {},
   "outputs": [],
   "source": [
    "import glob\n",
    "\n",
    "results = {}\n",
    "for output_dir in output_dirs:\n",
    "    results_scenario_df = pd.DataFrame()\n",
    "    result_csvs = glob.glob(join(output_dir+'/output_variance*.csv'))\n",
    "    for result_csv in result_csvs:\n",
    "        result = pd.read_csv(result_csv, index_col=0)\n",
    "        results_scenario_df = results_scenario_df.append(result)\n",
    "    results[output_dir] = results_scenario_df"
   ]
  },
  {
   "cell_type": "markdown",
   "metadata": {},
   "source": [
    "## Saving results to CSV"
   ]
  },
  {
   "cell_type": "code",
   "execution_count": null,
   "metadata": {},
   "outputs": [],
   "source": [
    "for output_dir in output_dirs:\n",
    "    export_df = results[output_dir]\n",
    "    export_df.index = preferences\n",
    "    export_df.to_csv(os.path.join(output_dir, 'output_resume.csv'))"
   ]
  },
  {
   "cell_type": "markdown",
   "metadata": {},
   "source": [
    "## Plotting results"
   ]
  },
  {
   "cell_type": "code",
   "execution_count": null,
   "metadata": {},
   "outputs": [],
   "source": [
    "for output_dir in output_dirs:\n",
    "    fig, ax1 = plt.subplots(figsize=(20, 10))\n",
    "    for metric_name in results[output_dir].columns.values:\n",
    "        if metric_name != 'processed_features':\n",
    "            ax1.plot(preferences, results[output_dir][metric_name])\n",
    "        \n",
    "    ax1.set_xlabel('std variance filter')\n",
    "    ax1.set_ylabel('metric value')\n",
    "    ax1.grid()\n",
    "    \n",
    "    ax2 = ax1.twinx()\n",
    "    ax2.set_figsize=(20, 10)\n",
    "    ax2.plot(preferences, results[output_dir]['processed_features'],  'r--', label='processed_features')\n",
    "    ax2.legend(loc=1)\n",
    "    ax2.set_ylabel('number of analyzed features')\n",
    "    \n",
    "    lines1, labels1 = ax1.get_legend_handles_labels()\n",
    "    lines2, labels2 = ax2.get_legend_handles_labels()\n",
    "    ax2.legend(lines1 + lines2, labels1 + labels2, loc=0)\n",
    "    \n",
    "    plt.title(output_dir)\n",
    "    plt.savefig(os.path.join(output_dir, 'output_resume_plot.pdf'), format='pdf')\n",
    "    plt.show()"
   ]
  }
 ],
 "metadata": {
  "kernelspec": {
   "display_name": "Python 3",
   "language": "python",
   "name": "python3"
  },
  "language_info": {
   "codemirror_mode": {
    "name": "ipython",
    "version": 3
   },
   "file_extension": ".py",
   "mimetype": "text/x-python",
   "name": "python",
   "nbconvert_exporter": "python",
   "pygments_lexer": "ipython3",
   "version": "3.5.2"
  },
  "toc": {
   "nav_menu": {},
   "number_sections": true,
   "sideBar": true,
   "skip_h1_title": false,
   "toc_cell": false,
   "toc_position": {},
   "toc_section_display": "block",
   "toc_window_display": false
  },
  "varInspector": {
   "cols": {
    "lenName": 16,
    "lenType": 16,
    "lenVar": 40
   },
   "kernels_config": {
    "python": {
     "delete_cmd_postfix": "",
     "delete_cmd_prefix": "del ",
     "library": "var_list.py",
     "varRefreshCmd": "print(var_dic_list())"
    },
    "r": {
     "delete_cmd_postfix": ") ",
     "delete_cmd_prefix": "rm(",
     "library": "var_list.r",
     "varRefreshCmd": "cat(var_dic_list()) "
    }
   },
   "types_to_exclude": [
    "module",
    "function",
    "builtin_function_or_method",
    "instance",
    "_Feature"
   ],
   "window_display": false
  }
 },
 "nbformat": 4,
 "nbformat_minor": 2
}
