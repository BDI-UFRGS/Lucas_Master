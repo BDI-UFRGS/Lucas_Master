{
 "cells": [
  {
   "cell_type": "markdown",
   "metadata": {},
   "source": [
    "# Formatting"
   ]
  },
  {
   "cell_type": "code",
   "execution_count": null,
   "metadata": {},
   "outputs": [],
   "source": [
    "# import pandas as pd\n",
    "# pd.options.display.max_columns = None\n",
    "# pd.options.display.max_rows = None\n",
    "\n",
    "# from IPython.core.display import display, HTML\n",
    "# display(HTML(\"<style>.container { width:100% !important; }</style>\"))\n",
    "# display(HTML(\"<style>.pre { width:100% !important; }</style>\"))"
   ]
  },
  {
   "cell_type": "markdown",
   "metadata": {},
   "source": [
    "# Options"
   ]
  },
  {
   "cell_type": "code",
   "execution_count": null,
   "metadata": {},
   "outputs": [],
   "source": [
    "REPLACE_SUBTOTALS = False\n",
    "IDIOM = 'ENUS'\n",
    "TARGET_PATH = '../datasets/Petrofácies (compilação de dados do De Ros)/Tabelas Petrográficas Margem Equatorial/'"
   ]
  },
  {
   "cell_type": "markdown",
   "metadata": {},
   "source": [
    "# Data Collection"
   ]
  },
  {
   "cell_type": "markdown",
   "metadata": {},
   "source": [
    "## Dataset files"
   ]
  },
  {
   "cell_type": "code",
   "execution_count": null,
   "metadata": {},
   "outputs": [],
   "source": [
    "import pandas as pd\n",
    "from IPython.display import display\n",
    "from os.path import join\n",
    "\n",
    "dataset = pd.read_csv(join(TARGET_PATH,'dataset.csv'), delimiter=',')\n",
    "\n",
    "feature_names = list(map(lambda x: x.lower(),dataset.columns.values))\n",
    "dataset.columns = feature_names\n",
    "result_dataset = dataset.copy(deep=True)"
   ]
  },
  {
   "cell_type": "markdown",
   "metadata": {},
   "source": [
    "## Attribute separation"
   ]
  },
  {
   "cell_type": "code",
   "execution_count": null,
   "metadata": {},
   "outputs": [],
   "source": [
    "import pandas as pd\n",
    "import numpy as np\n",
    "import re\n",
    "\n",
    "attributes = list(map(lambda x: x.split(' - '), feature_names))\n",
    "attributes = {i:attribute for i, attribute in enumerate(attributes)}\n",
    "for key in attributes:\n",
    "    while len(attributes[key]) < 7:\n",
    "        attributes[key].append(np.nan)\n",
    "attributes = pd.DataFrame(attributes).transpose()\n",
    "\n",
    "def extract_compositional_type(s):\n",
    "    n_attributes = s.count(' - ') +1\n",
    "    if n_attributes == 3:\n",
    "        return 'primary'\n",
    "    elif n_attributes == 7:\n",
    "        return 'diagenetic'\n",
    "    elif n_attributes == 6:\n",
    "        return 'porosity'\n",
    "    else:\n",
    "        return ''\n",
    "\n",
    "compositional_type = pd.Series(map(lambda s: extract_compositional_type(s), feature_names))\n",
    "attributes[0] = attributes[0].str.replace(\"\\[.*\\]\",\"\")\n",
    "attributes.insert(0, -1, compositional_type)"
   ]
  },
  {
   "cell_type": "markdown",
   "metadata": {},
   "source": [
    "# Subtotals grouping"
   ]
  },
  {
   "cell_type": "code",
   "execution_count": null,
   "metadata": {},
   "outputs": [],
   "source": [
    "diagenese_mapping = pd.read_csv('./subtotals_instructive_tables/Categorias de Localização Diagenética revDeRos.csv', delimiter=',')\n",
    "diagenese_mapping = diagenese_mapping.apply(lambda x: x.astype(str).str.lower())\n",
    "pore_mapping = pd.read_csv('./subtotals_instructive_tables/Categorias de Localização de Poros revDeRos.csv', delimiter=',')\n",
    "pore_mapping = pore_mapping.apply(lambda x: x.astype(str).str.lower())\n",
    "\n",
    "macro_locations = ['interstitial', 'framework', 'framework and interstitial']"
   ]
  },
  {
   "cell_type": "markdown",
   "metadata": {},
   "source": [
    "## Primary Subotals Grouping"
   ]
  },
  {
   "cell_type": "code",
   "execution_count": null,
   "metadata": {},
   "outputs": [],
   "source": [
    "primary = attributes[attributes[-1]  == 'primary'].iloc[:,1:4]\n",
    "primary.columns = ['constituent', 'location', 'modification']\n",
    "\n",
    "grouped_primary = primary.groupby(['constituent', 'location'])\n",
    "\n",
    "for name, group in grouped_primary:\n",
    "    if len(group) > 1:\n",
    "        result_dataset['[primary-subtotal]' + ' - '.join(name)] = dataset.iloc[:,group.index.values].sum(axis=1)\n",
    "        if REPLACE_SUBTOTALS: result_dataset = result_dataset.drop([' - '.join(row) for index, row in group.iterrows()], axis=1)\n",
    "#         display(group)"
   ]
  },
  {
   "cell_type": "markdown",
   "metadata": {},
   "source": [
    "## Diagenese Subtotals Grouping"
   ]
  },
  {
   "cell_type": "code",
   "execution_count": null,
   "metadata": {},
   "outputs": [],
   "source": [
    "diagenese = attributes[attributes[-1]  == 'diagenetic'].iloc[:,1:]\n",
    "diagenese.columns = ['consituent', 'habit', 'location', 'modification', 'paragenetic relation', 'paragenetic relation constituents', 'paragenetic relation constituent location']\n",
    "\n",
    "def define_diagenetic_macro_location(line):\n",
    "    return_line = line.tolist()\n",
    "    if line['paragenetic relation constituent location'] in macro_locations:\n",
    "        return_line.append(line[6])\n",
    "    else:\n",
    "        query = diagenese_mapping[diagenese_mapping['VALUE_'+IDIOM] == line[-1]]\n",
    "        if not query.empty:\n",
    "            return_line += query['location'].tolist()\n",
    "        else:\n",
    "            query = diagenese_mapping[diagenese_mapping['VALUE_'+IDIOM] == line[2]]\n",
    "            if not query.empty:\n",
    "                print(query['location'].tolist())\n",
    "                return_line += query['location'].tolist()\n",
    "                \n",
    "    if len(return_line) != 8:\n",
    "        raise ValueError('Something is wrong in line: '+str(line.tolist())+', generated:'+str(return_line))\n",
    "        \n",
    "    return pd.Series(return_line)\n",
    "        \n",
    "diagenese = pd.DataFrame(diagenese.apply(define_diagenetic_macro_location, axis=1))\n",
    "diagenese.columns = ['consituent', 'habit', 'location', 'modification', 'paragenetic relation', 'paragenetic relation constituents', 'paragenetic relation constituent location', 'macro location']\n",
    "\n",
    "grouped_diagenese = diagenese.groupby(['consituent', 'habit', 'macro location'])\n",
    "for name, group in grouped_diagenese:\n",
    "    if len(group) > 1:\n",
    "        result_dataset['[diagenese-subtotal]' + ' - '.join(name)] = dataset.iloc[:,group.index.values].sum(axis=1)\n",
    "        if REPLACE_SUBTOTALS: result_dataset = result_dataset.drop([' - '.join(row[:-1]) for index, row in group.iterrows()], axis=1)\n",
    "#         print(' - '.join(name))\n",
    "#         display(group)"
   ]
  },
  {
   "cell_type": "markdown",
   "metadata": {},
   "source": [
    "## Porosity Subtotals Grouping"
   ]
  },
  {
   "cell_type": "code",
   "execution_count": null,
   "metadata": {},
   "outputs": [],
   "source": [
    "porosity = attributes[attributes[-1]  == 'porosity'].iloc[:,1:7]\n",
    "porosity.columns = ['consituent', 'habit', 'location', 'modification', 'paragenetic relation', 'paragenetic relation constituents', 'paragenetic relation constituent location']\n",
    "\n",
    "grouped_porosity = porosity.groupby(['porosity', 'location'])\n",
    "for name, group in grouped_porosity:\n",
    "    if len(group) > 1:\n",
    "        result_dataset['[porosity-subtotal]' + ' - '.join(name)] = dataset.iloc[:,group.index.values].sum(axis=1)\n",
    "        if REPLACE_SUBTOTALS: result_dataset = result_dataset.drop([' - '.join(row) for index, row in group.iterrows()], axis=1)\n",
    "#         print(' - '.join(name))\n",
    "#         display(group)"
   ]
  },
  {
   "cell_type": "markdown",
   "metadata": {},
   "source": [
    "# Output File"
   ]
  },
  {
   "cell_type": "code",
   "execution_count": null,
   "metadata": {},
   "outputs": [],
   "source": [
    "import csv\n",
    "result_dataset.to_csv(join(TARGET_PATH,'dataset_subtotals.csv'), sep=',', encoding='utf-8', index=False, quoting=csv.QUOTE_NONNUMERIC)"
   ]
  }
 ],
 "metadata": {
  "kernelspec": {
   "display_name": "Python 3",
   "language": "python",
   "name": "python3"
  },
  "language_info": {
   "codemirror_mode": {
    "name": "ipython",
    "version": 3
   },
   "file_extension": ".py",
   "mimetype": "text/x-python",
   "name": "python",
   "nbconvert_exporter": "python",
   "pygments_lexer": "ipython3",
   "version": "3.6.3"
  },
  "toc": {
   "nav_menu": {},
   "number_sections": true,
   "sideBar": true,
   "skip_h1_title": false,
   "toc_cell": false,
   "toc_position": {},
   "toc_section_display": "block",
   "toc_window_display": false
  },
  "varInspector": {
   "cols": {
    "lenName": 16,
    "lenType": 16,
    "lenVar": 40
   },
   "kernels_config": {
    "python": {
     "delete_cmd_postfix": "",
     "delete_cmd_prefix": "del ",
     "library": "var_list.py",
     "varRefreshCmd": "print(var_dic_list())"
    },
    "r": {
     "delete_cmd_postfix": ") ",
     "delete_cmd_prefix": "rm(",
     "library": "var_list.r",
     "varRefreshCmd": "cat(var_dic_list()) "
    }
   },
   "types_to_exclude": [
    "module",
    "function",
    "builtin_function_or_method",
    "instance",
    "_Feature"
   ],
   "window_display": false
  }
 },
 "nbformat": 4,
 "nbformat_minor": 2
}
