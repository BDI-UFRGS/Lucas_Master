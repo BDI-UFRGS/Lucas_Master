{
 "cells": [
  {
   "cell_type": "markdown",
   "metadata": {},
   "source": [
    "## Loading dataset"
   ]
  },
  {
   "cell_type": "code",
   "execution_count": null,
   "metadata": {},
   "outputs": [],
   "source": [
    "from pkg.datasets import thin_sections\n",
    "\n",
    "dataset = thin_sections(reduced_data=True)"
   ]
  },
  {
   "cell_type": "markdown",
   "metadata": {},
   "source": [
    "## Weightening"
   ]
  },
  {
   "cell_type": "code",
   "execution_count": null,
   "metadata": {},
   "outputs": [],
   "source": [
    "import copy\n",
    "\n",
    "weights = [{'feature': 'Porosity', 'weight': 10},\n",
    "           {'feature': 'Main/single size mode(mm):', 'weight': 10}]\n",
    "\n",
    "weightened_dataset = copy.deepcopy(dataset)\n",
    "\n",
    "for weight in weights:\n",
    "    index_weight = dataset.feature_names.index(weight['feature'])\n",
    "\n",
    "    for i, point in enumerate(weightened_dataset.data):\n",
    "        weightened_dataset.data[i][index_weight] = point[index_weight] * weight['weight']\n",
    "\n",
    "    "
   ]
  },
  {
   "cell_type": "markdown",
   "metadata": {},
   "source": [
    "## Analysis Per Feature"
   ]
  },
  {
   "cell_type": "code",
   "execution_count": null,
   "metadata": {},
   "outputs": [],
   "source": [
    "from matplotlib import pyplot as plt\n",
    "\n",
    "# %matplotlib inline\n",
    "for feature_name in dataset.feature_names:\n",
    "    index_porosity = dataset.feature_names.index(feature_name)\n",
    "\n",
    "    porosities = [[] for _ in dataset.target_names]\n",
    "\n",
    "    for i, point in enumerate(dataset.data):\n",
    "        porosities[dataset.target[i]].append(point[index_porosity])\n",
    "\n",
    "    fig = plt.figure(figsize=(12,6))\n",
    "    plt.title(feature_name)\n",
    "    plt.boxplot(porosities, labels=dataset.target_names)\n",
    "    plt.show()"
   ]
  },
  {
   "cell_type": "markdown",
   "metadata": {},
   "source": [
    "## Plotting results\n",
    "Plots are generated from the results obtained"
   ]
  },
  {
   "cell_type": "code",
   "execution_count": null,
   "metadata": {},
   "outputs": [],
   "source": [
    "from scipy.cluster.hierarchy import linkage, dendrogram\n",
    "from matplotlib import pyplot as plt\n",
    "\n",
    "distances = ['braycurtis', 'canberra', 'chebyshev', 'cityblock', 'correlation', 'cosine', 'dice', 'euclidean', 'hamming', 'jaccard', 'kulsinski', 'mahalanobis', 'matching', 'minkowski', 'rogerstanimoto', 'russellrao', 'seuclidean', 'sokalmichener', 'sokalsneath', 'sqeuclidean', 'yule']\n",
    "methods = ['single', 'complete', 'average', 'weighted', 'centroid', 'median', 'ward']\n",
    "    \n",
    "labels = [dataset.target_names[numeric_label] for numeric_label in dataset.target]\n",
    "\n",
    "# for distance in distances:\n",
    "#     for method in methods:\n",
    "#         if (method == 'centroid' or method == 'median' or method == 'ward') and distance != 'euclidian':\n",
    "#             continue\n",
    "            \n",
    "#         fig = plt.figure(figsize=(18, 6))\n",
    "#         plt.subplot(1, 2, 1)\n",
    "#         Z = linkage(weightened_thin_sections.data, method=method, metric=distance)\n",
    "#         plt.title('WEIGHTENED Method: ' + method + '; Distance: ' + distance)\n",
    "#         dendrogram(Z, labels=labels, leaf_font_size=12)\n",
    "#         plt.subplot(1, 2, 2)\n",
    "#         Z = linkage(dataset.data, method=method, metric=distance)\n",
    "#         plt.title('Method: ' + method + '; Distance: ' + distance)\n",
    "#         dendrogram(Z, labels=labels, leaf_font_size=12)\n",
    "#         plt.show()"
   ]
  },
  {
   "cell_type": "markdown",
   "metadata": {},
   "source": [
    "### R section"
   ]
  },
  {
   "cell_type": "code",
   "execution_count": null,
   "metadata": {},
   "outputs": [],
   "source": [
    "data = dataset.data\n",
    "data_labels = dataset.target_names[dataset.target]"
   ]
  },
  {
   "cell_type": "code",
   "execution_count": null,
   "metadata": {},
   "outputs": [],
   "source": [
    "%load_ext rpy2.ipython"
   ]
  },
  {
   "cell_type": "code",
   "execution_count": null,
   "metadata": {},
   "outputs": [],
   "source": [
    "%%R -i data,data_labels -w 1000 -h 600\n",
    "\n",
    "library(dendextend)\n",
    "\n",
    "rownames(data) = data_labels\n",
    "\n",
    "# DISTANCE=c(\"euclidean\", \"maximum\", \"manhattan\", \"canberra\", \"binary\", \"minkowski\")\n",
    "DISTANCE=c(\"euclidean\", \"manhattan\")\n",
    "# METHOD=c(\"single\", \"complete\", \"average\", \"mcquitty\", \"ward.D\", \"ward.D2\", \"centroid\", \"median\")\n",
    "METHOD=c(\"complete\")\n",
    "scenarios = expand.grid(DISTANCE=DISTANCE,METHOD=METHOD)\n",
    "\n",
    "clustering <- function(distance, method){\n",
    "    dend <- data %>%\n",
    "            dist(method=distance) %>%\n",
    "            hclust(method=method, members=NULL) %>%\n",
    "            as.dendrogram() %>%\n",
    "            color_branches(k=10) %>%\n",
    "            color_labels(k=10)\n",
    "    plot(dend)\n",
    "    title(main=paste(distance, method, sep=\" X \"),\n",
    "          ylab=\"distance\", xlab=\"label\")\n",
    "}\n",
    "\n",
    "mapply(clustering, scenarios$DISTANCE, scenarios$METHOD)\n",
    "print(\"END\")"
   ]
  },
  {
   "cell_type": "code",
   "execution_count": null,
   "metadata": {},
   "outputs": [],
   "source": []
  }
 ],
 "metadata": {
  "kernelspec": {
   "display_name": "Python 3",
   "language": "python",
   "name": "python3"
  },
  "language_info": {
   "codemirror_mode": {
    "name": "ipython",
    "version": 3
   },
   "file_extension": ".py",
   "mimetype": "text/x-python",
   "name": "python",
   "nbconvert_exporter": "python",
   "pygments_lexer": "ipython3",
   "version": "3.6.1"
  },
  "toc": {
   "nav_menu": {},
   "number_sections": true,
   "sideBar": true,
   "skip_h1_title": false,
   "toc_cell": false,
   "toc_position": {},
   "toc_section_display": "block",
   "toc_window_display": false
  },
  "varInspector": {
   "cols": {
    "lenName": 16.0,
    "lenType": 16.0,
    "lenVar": 40.0
   },
   "kernels_config": {
    "python": {
     "delete_cmd_postfix": "",
     "delete_cmd_prefix": "del ",
     "library": "var_list.py",
     "varRefreshCmd": "print(var_dic_list())"
    },
    "r": {
     "delete_cmd_postfix": ") ",
     "delete_cmd_prefix": "rm(",
     "library": "var_list.r",
     "varRefreshCmd": "cat(var_dic_list()) "
    }
   },
   "types_to_exclude": [
    "module",
    "function",
    "builtin_function_or_method",
    "instance",
    "_Feature"
   ],
   "window_display": false
  }
 },
 "nbformat": 4,
 "nbformat_minor": 2
}
