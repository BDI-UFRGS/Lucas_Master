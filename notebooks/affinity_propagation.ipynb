{
 "cells": [
  {
   "cell_type": "markdown",
   "metadata": {
    "toc": "true"
   },
   "source": [
    " # Table of Contents\n",
    "<div class=\"toc\" style=\"margin-top: 1em;\"><ul class=\"toc-item\" id=\"toc-level0\"><li><span><a href=\"http://localhost:8888/notebooks/affinity_propagation_sklearn.ipynb#Cell-Formatting\" data-toc-modified-id=\"Cell-Formatting-1\"><span class=\"toc-item-num\">1&nbsp;&nbsp;</span>Cell Formatting</a></span></li><li><span><a href=\"http://localhost:8888/notebooks/affinity_propagation_sklearn.ipynb#Parameters\" data-toc-modified-id=\"Parameters-2\"><span class=\"toc-item-num\">2&nbsp;&nbsp;</span>Parameters</a></span></li><li><span><a href=\"http://localhost:8888/notebooks/affinity_propagation_sklearn.ipynb#Data-Collection\" data-toc-modified-id=\"Data-Collection-3\"><span class=\"toc-item-num\">3&nbsp;&nbsp;</span>Data Collection</a></span><ul class=\"toc-item\"><li><span><a href=\"http://localhost:8888/notebooks/affinity_propagation_sklearn.ipynb#Variance-Filtering\" data-toc-modified-id=\"Variance-Filtering-3.1\"><span class=\"toc-item-num\">3.1&nbsp;&nbsp;</span>Variance Filtering</a></span></li><li><span><a href=\"http://localhost:8888/notebooks/affinity_propagation_sklearn.ipynb#Weightening\" data-toc-modified-id=\"Weightening-3.2\"><span class=\"toc-item-num\">3.2&nbsp;&nbsp;</span>Weightening</a></span></li><li><span><a href=\"http://localhost:8888/notebooks/affinity_propagation_sklearn.ipynb#Data-scalling\" data-toc-modified-id=\"Data-scalling-3.3\"><span class=\"toc-item-num\">3.3&nbsp;&nbsp;</span>Data scalling</a></span></li></ul></li><li><span><a href=\"http://localhost:8888/notebooks/affinity_propagation_sklearn.ipynb#Dendrogram-Formation\" data-toc-modified-id=\"Dendrogram-Formation-4\"><span class=\"toc-item-num\">4&nbsp;&nbsp;</span>Dendrogram Formation</a></span><ul class=\"toc-item\"><li><span><a href=\"http://localhost:8888/notebooks/affinity_propagation_sklearn.ipynb#display-features-list-with-indexes\" data-toc-modified-id=\"display-features-list-with-indexes-4.1\"><span class=\"toc-item-num\">4.1&nbsp;&nbsp;</span>display features list with indexes</a></span></li><li><span><a href=\"http://localhost:8888/notebooks/affinity_propagation_sklearn.ipynb#data-plot-per-cluster\" data-toc-modified-id=\"data-plot-per-cluster-4.2\"><span class=\"toc-item-num\">4.2&nbsp;&nbsp;</span>data plot per cluster</a></span></li></ul></li><li><span><a href=\"http://localhost:8888/notebooks/affinity_propagation_sklearn.ipynb#Clustering-Metrics\" data-toc-modified-id=\"Clustering-Metrics-5\"><span class=\"toc-item-num\">5&nbsp;&nbsp;</span>Clustering Metrics</a></span></li></ul></div>"
   ]
  },
  {
   "cell_type": "markdown",
   "metadata": {},
   "source": [
    "# Cell Formatting"
   ]
  },
  {
   "cell_type": "code",
   "execution_count": 1,
   "metadata": {},
   "outputs": [
    {
     "data": {
      "text/html": [
       "<style>.container { width:100% !important; }</style>"
      ],
      "text/plain": [
       "<IPython.core.display.HTML object>"
      ]
     },
     "metadata": {},
     "output_type": "display_data"
    }
   ],
   "source": [
    "from IPython.core.display import display, HTML\n",
    "display(HTML(\"<style>.container { width:100% !important; }</style>\"))"
   ]
  },
  {
   "cell_type": "markdown",
   "metadata": {},
   "source": [
    "# Parameters"
   ]
  },
  {
   "cell_type": "code",
   "execution_count": 2,
   "metadata": {
    "tags": [
     "parameters"
    ]
   },
   "outputs": [],
   "source": [
    "OUTPUT_DIR = './../datasets/TalaraBasin/full_scenario/'\n",
    "DATASET_PATH = './../datasets/TalaraBasin/dataset.csv'\n",
    "VARIANCE_FILTER = 0\n",
    "SCENARIO = ''\n",
    "PREFERENCE = -50"
   ]
  },
  {
   "cell_type": "code",
   "execution_count": 3,
   "metadata": {},
   "outputs": [],
   "source": [
    "from os.path import join\n",
    "VARIANCE_FILTER = round(float(VARIANCE_FILTER), 2)"
   ]
  },
  {
   "cell_type": "markdown",
   "metadata": {},
   "source": [
    "# Data Collection"
   ]
  },
  {
   "cell_type": "code",
   "execution_count": 4,
   "metadata": {},
   "outputs": [],
   "source": [
    "import pandas as pd\n",
    "#from IPython.display import display\n",
    "\n",
    "dataset = pd.read_csv(DATASET_PATH, delimiter=',')\n",
    "\n",
    "pd.options.display.max_columns = None\n",
    "pd.options.display.max_rows = None\n",
    "\n",
    "target_labels = dataset['petrofacie']\n",
    "petrofacies = list(set(target_labels))\n",
    "dataset.index = [\n",
    "    str(i) + '-' + str(petrofacie)\n",
    "    for i, petrofacie in enumerate(dataset['petrofacie'])\n",
    "]\n",
    "targets = list(dataset['petrofacie'])\n",
    "\n",
    "del dataset['petrofacie']\n",
    "del dataset[dataset.columns[0]] # Removing well ID\n",
    "\n",
    "feature_names = list(dataset.columns.values)\n",
    "# dataset.describe()"
   ]
  },
  {
   "cell_type": "markdown",
   "metadata": {},
   "source": [
    "## Variance Filtering"
   ]
  },
  {
   "cell_type": "code",
   "execution_count": 5,
   "metadata": {},
   "outputs": [
    {
     "name": "stdout",
     "output_type": "stream",
     "text": [
      "from 273\n",
      "to 273 features\n"
     ]
    }
   ],
   "source": [
    "print('from ' + str(dataset.shape[1]))\n",
    "dataset = dataset.loc[:,dataset.std()>VARIANCE_FILTER]\n",
    "# dataset = dataset.loc[:,dataset.std()<2-0.1*VARIANCE_FILTER]\n",
    "print('to ' + str(dataset.shape[1]) + ' features')\n",
    "processed_features = dataset.shape[1]"
   ]
  },
  {
   "cell_type": "markdown",
   "metadata": {},
   "source": [
    "## Weightening"
   ]
  },
  {
   "cell_type": "code",
   "execution_count": 6,
   "metadata": {},
   "outputs": [],
   "source": [
    "# dataset.loc[:, 'Main/single size mode(mm):'] *= 10"
   ]
  },
  {
   "cell_type": "markdown",
   "metadata": {},
   "source": [
    "## Data scalling"
   ]
  },
  {
   "cell_type": "code",
   "execution_count": 7,
   "metadata": {},
   "outputs": [],
   "source": [
    "from sklearn.preprocessing import StandardScaler, RobustScaler\n",
    "from copy import deepcopy\n",
    "\n",
    "# scalled_dataset = deepcopy(dataset)\n",
    "dataset[:] = StandardScaler().fit_transform(X=dataset)\n"
   ]
  },
  {
   "cell_type": "markdown",
   "metadata": {},
   "source": [
    "# Dendrogram Formation"
   ]
  },
  {
   "cell_type": "code",
   "execution_count": 8,
   "metadata": {},
   "outputs": [],
   "source": [
    "from sklearn.cluster import AffinityPropagation\n",
    "\n",
    "km = AffinityPropagation(preference=PREFERENCE).fit(dataset)\n",
    "labels = km.labels_"
   ]
  },
  {
   "cell_type": "markdown",
   "metadata": {},
   "source": [
    "## display features list with indexes"
   ]
  },
  {
   "cell_type": "code",
   "execution_count": 9,
   "metadata": {},
   "outputs": [],
   "source": [
    "# pd.options.display.max_colwidth = 180\n",
    "# display(pd.DataFrame(dataset.columns.values, columns=['FEATURE']))"
   ]
  },
  {
   "cell_type": "markdown",
   "metadata": {},
   "source": [
    "## data plot per cluster\n",
    "Boxplot features grouped according to the samples clustered"
   ]
  },
  {
   "cell_type": "markdown",
   "metadata": {},
   "source": [
    "# Clustering Metrics"
   ]
  },
  {
   "cell_type": "code",
   "execution_count": 10,
   "metadata": {},
   "outputs": [
    {
     "name": "stdout",
     "output_type": "stream",
     "text": [
      "{'metric_adjusted_rand_score': [0.006430596099335787], 'metric_adjusted_mutual_info_score': [0.008854323342904492], 'metric_homogeneity_score': [0.9896058934792503], 'metric_completeness_score': [0.5322248426566767], 'metric_v_measure_score': [0.6921832086089117], 'processed_features': [273]}\n"
     ]
    }
   ],
   "source": [
    "from os.path import join\n",
    "from sklearn import metrics\n",
    "\n",
    "save_dic = {\n",
    "    'metric_adjusted_rand_score':  [metrics.cluster.adjusted_rand_score(targets, labels)],\n",
    "    'metric_adjusted_mutual_info_score': [metrics.cluster.adjusted_mutual_info_score(targets, labels)],\n",
    "    'metric_homogeneity_score': [metrics.cluster.homogeneity_score(targets, labels)],\n",
    "    'metric_completeness_score':[metrics.cluster.completeness_score(targets, labels)],\n",
    "    'metric_v_measure_score': [metrics.cluster.v_measure_score(targets, labels)],\n",
    "    'processed_features': [processed_features]\n",
    "}\n",
    "\n",
    "print(save_dic)\n",
    "# save_df = pd.DataFrame.from_dict(save_dic)\n",
    "# save_df.to_csv(join(OUTPUT_DIR, 'output_variance'+str(VARIANCE_FILTER)+'_preference_'+str(PREFERENCE)+'.csv'))"
   ]
  },
  {
   "cell_type": "code",
   "execution_count": 11,
   "metadata": {},
   "outputs": [
    {
     "ename": "FileNotFoundError",
     "evalue": "[Errno 2] No such file or directory: './../datasets/TalaraBasin/full_scenario/output_variance0.0_preference_-50_clusters.xlsx'",
     "output_type": "error",
     "traceback": [
      "\u001b[1;31m---------------------------------------------------------------------------\u001b[0m",
      "\u001b[1;31mFileNotFoundError\u001b[0m                         Traceback (most recent call last)",
      "\u001b[1;32m<ipython-input-11-6d6c1df1f21f>\u001b[0m in \u001b[0;36m<module>\u001b[1;34m()\u001b[0m\n\u001b[0;32m     12\u001b[0m     \u001b[0mcluster_df\u001b[0m \u001b[1;33m=\u001b[0m \u001b[0mcluster_df\u001b[0m\u001b[1;33m.\u001b[0m\u001b[0mappend\u001b[0m\u001b[1;33m(\u001b[0m\u001b[0mcluster_df\u001b[0m\u001b[1;33m.\u001b[0m\u001b[0mdescribe\u001b[0m\u001b[1;33m(\u001b[0m\u001b[1;33m)\u001b[0m\u001b[1;33m)\u001b[0m\u001b[1;33m\u001b[0m\u001b[0m\n\u001b[0;32m     13\u001b[0m     \u001b[0mcluster_df\u001b[0m\u001b[1;33m.\u001b[0m\u001b[0mto_excel\u001b[0m\u001b[1;33m(\u001b[0m\u001b[0mwriter\u001b[0m\u001b[1;33m,\u001b[0m \u001b[1;34m'Cluster'\u001b[0m\u001b[1;33m+\u001b[0m\u001b[0mstr\u001b[0m\u001b[1;33m(\u001b[0m\u001b[0mi\u001b[0m\u001b[1;33m)\u001b[0m\u001b[1;33m)\u001b[0m\u001b[1;33m\u001b[0m\u001b[0m\n\u001b[1;32m---> 14\u001b[1;33m \u001b[0mwriter\u001b[0m\u001b[1;33m.\u001b[0m\u001b[0msave\u001b[0m\u001b[1;33m(\u001b[0m\u001b[1;33m)\u001b[0m\u001b[1;33m\u001b[0m\u001b[0m\n\u001b[0m",
      "\u001b[1;32m~\\Miniconda3\\envs\\mestrado\\lib\\site-packages\\pandas\\io\\excel.py\u001b[0m in \u001b[0;36msave\u001b[1;34m(self)\u001b[0m\n\u001b[0;32m   1016\u001b[0m         \u001b[0mSave\u001b[0m \u001b[0mworkbook\u001b[0m \u001b[0mto\u001b[0m \u001b[0mdisk\u001b[0m\u001b[1;33m.\u001b[0m\u001b[1;33m\u001b[0m\u001b[0m\n\u001b[0;32m   1017\u001b[0m         \"\"\"\n\u001b[1;32m-> 1018\u001b[1;33m         \u001b[1;32mreturn\u001b[0m \u001b[0mself\u001b[0m\u001b[1;33m.\u001b[0m\u001b[0mbook\u001b[0m\u001b[1;33m.\u001b[0m\u001b[0msave\u001b[0m\u001b[1;33m(\u001b[0m\u001b[0mself\u001b[0m\u001b[1;33m.\u001b[0m\u001b[0mpath\u001b[0m\u001b[1;33m)\u001b[0m\u001b[1;33m\u001b[0m\u001b[0m\n\u001b[0m\u001b[0;32m   1019\u001b[0m \u001b[1;33m\u001b[0m\u001b[0m\n\u001b[0;32m   1020\u001b[0m     \u001b[1;33m@\u001b[0m\u001b[0mclassmethod\u001b[0m\u001b[1;33m\u001b[0m\u001b[0m\n",
      "\u001b[1;32m~\\Miniconda3\\envs\\mestrado\\lib\\site-packages\\openpyxl\\workbook\\workbook.py\u001b[0m in \u001b[0;36msave\u001b[1;34m(self, filename)\u001b[0m\n\u001b[0;32m    388\u001b[0m             \u001b[0msave_dump\u001b[0m\u001b[1;33m(\u001b[0m\u001b[0mself\u001b[0m\u001b[1;33m,\u001b[0m \u001b[0mfilename\u001b[0m\u001b[1;33m)\u001b[0m\u001b[1;33m\u001b[0m\u001b[0m\n\u001b[0;32m    389\u001b[0m         \u001b[1;32melse\u001b[0m\u001b[1;33m:\u001b[0m\u001b[1;33m\u001b[0m\u001b[0m\n\u001b[1;32m--> 390\u001b[1;33m             \u001b[0msave_workbook\u001b[0m\u001b[1;33m(\u001b[0m\u001b[0mself\u001b[0m\u001b[1;33m,\u001b[0m \u001b[0mfilename\u001b[0m\u001b[1;33m)\u001b[0m\u001b[1;33m\u001b[0m\u001b[0m\n\u001b[0m\u001b[0;32m    391\u001b[0m \u001b[1;33m\u001b[0m\u001b[0m\n\u001b[0;32m    392\u001b[0m \u001b[1;33m\u001b[0m\u001b[0m\n",
      "\u001b[1;32m~\\Miniconda3\\envs\\mestrado\\lib\\site-packages\\openpyxl\\writer\\excel.py\u001b[0m in \u001b[0;36msave_workbook\u001b[1;34m(workbook, filename)\u001b[0m\n\u001b[0;32m    280\u001b[0m \u001b[1;33m\u001b[0m\u001b[0m\n\u001b[0;32m    281\u001b[0m     \"\"\"\n\u001b[1;32m--> 282\u001b[1;33m     \u001b[0marchive\u001b[0m \u001b[1;33m=\u001b[0m \u001b[0mZipFile\u001b[0m\u001b[1;33m(\u001b[0m\u001b[0mfilename\u001b[0m\u001b[1;33m,\u001b[0m \u001b[1;34m'w'\u001b[0m\u001b[1;33m,\u001b[0m \u001b[0mZIP_DEFLATED\u001b[0m\u001b[1;33m,\u001b[0m \u001b[0mallowZip64\u001b[0m\u001b[1;33m=\u001b[0m\u001b[1;32mTrue\u001b[0m\u001b[1;33m)\u001b[0m\u001b[1;33m\u001b[0m\u001b[0m\n\u001b[0m\u001b[0;32m    283\u001b[0m     \u001b[0mwriter\u001b[0m \u001b[1;33m=\u001b[0m \u001b[0mExcelWriter\u001b[0m\u001b[1;33m(\u001b[0m\u001b[0mworkbook\u001b[0m\u001b[1;33m,\u001b[0m \u001b[0marchive\u001b[0m\u001b[1;33m)\u001b[0m\u001b[1;33m\u001b[0m\u001b[0m\n\u001b[0;32m    284\u001b[0m     \u001b[0mwriter\u001b[0m\u001b[1;33m.\u001b[0m\u001b[0msave\u001b[0m\u001b[1;33m(\u001b[0m\u001b[0mfilename\u001b[0m\u001b[1;33m)\u001b[0m\u001b[1;33m\u001b[0m\u001b[0m\n",
      "\u001b[1;32m~\\Miniconda3\\envs\\mestrado\\lib\\zipfile.py\u001b[0m in \u001b[0;36m__init__\u001b[1;34m(self, file, mode, compression, allowZip64)\u001b[0m\n\u001b[0;32m   1088\u001b[0m             \u001b[1;32mwhile\u001b[0m \u001b[1;32mTrue\u001b[0m\u001b[1;33m:\u001b[0m\u001b[1;33m\u001b[0m\u001b[0m\n\u001b[0;32m   1089\u001b[0m                 \u001b[1;32mtry\u001b[0m\u001b[1;33m:\u001b[0m\u001b[1;33m\u001b[0m\u001b[0m\n\u001b[1;32m-> 1090\u001b[1;33m                     \u001b[0mself\u001b[0m\u001b[1;33m.\u001b[0m\u001b[0mfp\u001b[0m \u001b[1;33m=\u001b[0m \u001b[0mio\u001b[0m\u001b[1;33m.\u001b[0m\u001b[0mopen\u001b[0m\u001b[1;33m(\u001b[0m\u001b[0mfile\u001b[0m\u001b[1;33m,\u001b[0m \u001b[0mfilemode\u001b[0m\u001b[1;33m)\u001b[0m\u001b[1;33m\u001b[0m\u001b[0m\n\u001b[0m\u001b[0;32m   1091\u001b[0m                 \u001b[1;32mexcept\u001b[0m \u001b[0mOSError\u001b[0m\u001b[1;33m:\u001b[0m\u001b[1;33m\u001b[0m\u001b[0m\n\u001b[0;32m   1092\u001b[0m                     \u001b[1;32mif\u001b[0m \u001b[0mfilemode\u001b[0m \u001b[1;32min\u001b[0m \u001b[0mmodeDict\u001b[0m\u001b[1;33m:\u001b[0m\u001b[1;33m\u001b[0m\u001b[0m\n",
      "\u001b[1;31mFileNotFoundError\u001b[0m: [Errno 2] No such file or directory: './../datasets/TalaraBasin/full_scenario/output_variance0.0_preference_-50_clusters.xlsx'"
     ]
    }
   ],
   "source": [
    "from os.path import join\n",
    "\n",
    "clusters_df = [pd.DataFrame() for _, _ in enumerate(set(labels))]\n",
    "\n",
    "for i, label in enumerate(labels):\n",
    "    clusters_df[label] = clusters_df[label].append(dataset.iloc[i,:])\n",
    "\n",
    "output_dir = join(OUTPUT_DIR, 'output_variance'+str(VARIANCE_FILTER)+'_preference_'+str(PREFERENCE)+'_clusters.xlsx')\n",
    "writer = pd.ExcelWriter(output_dir)\n",
    "\n",
    "for i, cluster_df in enumerate(clusters_df):\n",
    "    cluster_df = cluster_df.append(cluster_df.describe())\n",
    "    cluster_df.to_excel(writer, 'Cluster'+str(i))    \n",
    "writer.save()"
   ]
  }
 ],
 "metadata": {
  "celltoolbar": "Tags",
  "kernelspec": {
   "display_name": "Python 3",
   "language": "python",
   "name": "python3"
  },
  "language_info": {
   "codemirror_mode": {
    "name": "ipython",
    "version": 3
   },
   "file_extension": ".py",
   "mimetype": "text/x-python",
   "name": "python",
   "nbconvert_exporter": "python",
   "pygments_lexer": "ipython3",
   "version": "3.6.6"
  },
  "toc": {
   "nav_menu": {},
   "number_sections": true,
   "sideBar": true,
   "skip_h1_title": false,
   "toc_cell": true,
   "toc_position": {},
   "toc_section_display": "block",
   "toc_window_display": false
  },
  "varInspector": {
   "cols": {
    "lenName": 16,
    "lenType": 16,
    "lenVar": 40
   },
   "kernels_config": {
    "python": {
     "delete_cmd_postfix": "",
     "delete_cmd_prefix": "del ",
     "library": "var_list.py",
     "varRefreshCmd": "print(var_dic_list())"
    },
    "r": {
     "delete_cmd_postfix": ") ",
     "delete_cmd_prefix": "rm(",
     "library": "var_list.r",
     "varRefreshCmd": "cat(var_dic_list()) "
    }
   },
   "position": {
    "height": "589px",
    "left": "1282px",
    "right": "-12px",
    "top": "39px",
    "width": "490px"
   },
   "types_to_exclude": [
    "module",
    "function",
    "builtin_function_or_method",
    "instance",
    "_Feature"
   ],
   "window_display": false
  }
 },
 "nbformat": 4,
 "nbformat_minor": 2
}
