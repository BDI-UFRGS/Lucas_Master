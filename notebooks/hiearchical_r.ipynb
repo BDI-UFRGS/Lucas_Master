{
 "cells": [
  {
   "cell_type": "markdown",
   "metadata": {
    "toc": "true"
   },
   "source": [
    " # Table of Contents\n",
    "<div class=\"toc\" style=\"margin-top: 1em;\"><ul class=\"toc-item\" id=\"toc-level0\"><li><span><a href=\"http://localhost:8888/notebooks/hiearchical_r.ipynb#Cell-Formatting\" data-toc-modified-id=\"Cell-Formatting-1\"><span class=\"toc-item-num\">1&nbsp;&nbsp;</span>Cell Formatting</a></span></li><li><span><a href=\"http://localhost:8888/notebooks/hiearchical_r.ipynb#Parameters\" data-toc-modified-id=\"Parameters-2\"><span class=\"toc-item-num\">2&nbsp;&nbsp;</span>Parameters</a></span></li><li><span><a href=\"http://localhost:8888/notebooks/hiearchical_r.ipynb#Data-Collection\" data-toc-modified-id=\"Data-Collection-3\"><span class=\"toc-item-num\">3&nbsp;&nbsp;</span>Data Collection</a></span><ul class=\"toc-item\"><li><span><a href=\"http://localhost:8888/notebooks/hiearchical_r.ipynb#Variance-Filtering\" data-toc-modified-id=\"Variance-Filtering-3.1\"><span class=\"toc-item-num\">3.1&nbsp;&nbsp;</span>Variance Filtering</a></span></li><li><span><a href=\"http://localhost:8888/notebooks/hiearchical_r.ipynb#Weightening\" data-toc-modified-id=\"Weightening-3.2\"><span class=\"toc-item-num\">3.2&nbsp;&nbsp;</span>Weightening</a></span></li><li><span><a href=\"http://localhost:8888/notebooks/hiearchical_r.ipynb#Data-scalling\" data-toc-modified-id=\"Data-scalling-3.3\"><span class=\"toc-item-num\">3.3&nbsp;&nbsp;</span>Data scalling</a></span></li></ul></li><li><span><a href=\"http://localhost:8888/notebooks/hiearchical_r.ipynb#Dendrogram-Formation\" data-toc-modified-id=\"Dendrogram-Formation-4\"><span class=\"toc-item-num\">4&nbsp;&nbsp;</span>Dendrogram Formation</a></span></li><li><span><a href=\"http://localhost:8888/notebooks/hiearchical_r.ipynb#Data-Display\" data-toc-modified-id=\"Data-Display-5\"><span class=\"toc-item-num\">5&nbsp;&nbsp;</span>Data Display</a></span><ul class=\"toc-item\"><li><span><a href=\"http://localhost:8888/notebooks/hiearchical_r.ipynb#generated-class-labels\" data-toc-modified-id=\"generated-class-labels-5.1\"><span class=\"toc-item-num\">5.1&nbsp;&nbsp;</span>generated class labels</a></span></li><li><span><a href=\"http://localhost:8888/notebooks/hiearchical_r.ipynb#plotting-dendrogram\" data-toc-modified-id=\"plotting-dendrogram-5.2\"><span class=\"toc-item-num\">5.2&nbsp;&nbsp;</span>plotting dendrogram</a></span></li><li><span><a href=\"http://localhost:8888/notebooks/hiearchical_r.ipynb#display-features-list-with-indexes\" data-toc-modified-id=\"display-features-list-with-indexes-5.3\"><span class=\"toc-item-num\">5.3&nbsp;&nbsp;</span>display features list with indexes</a></span></li><li><span><a href=\"http://localhost:8888/notebooks/hiearchical_r.ipynb#data-plot-per-cluster\" data-toc-modified-id=\"data-plot-per-cluster-5.4\"><span class=\"toc-item-num\">5.4&nbsp;&nbsp;</span>data plot per cluster</a></span></li></ul></li><li><span><a href=\"http://localhost:8888/notebooks/hiearchical_r.ipynb#Clustering-Metrics\" data-toc-modified-id=\"Clustering-Metrics-6\"><span class=\"toc-item-num\">6&nbsp;&nbsp;</span>Clustering Metrics</a></span></li></ul></div>"
   ]
  },
  {
   "cell_type": "markdown",
   "metadata": {},
   "source": [
    "# Cell Formatting"
   ]
  },
  {
   "cell_type": "code",
   "execution_count": null,
   "metadata": {},
   "outputs": [],
   "source": [
    "from IPython.core.display import display, HTML\n",
    "display(HTML(\"<style>.container { width:100% !important; }</style>\"))"
   ]
  },
  {
   "cell_type": "markdown",
   "metadata": {},
   "source": [
    "# Parameters"
   ]
  },
  {
   "cell_type": "code",
   "execution_count": null,
   "metadata": {
    "tags": [
     "parameters"
    ]
   },
   "outputs": [],
   "source": [
    "DATASET_PATH = '../datasets/MargemEquatorial/full_scenario/dataste_analysis2018_01_30-14_48_00_filtered_dataset.csv'\n",
    "VARIANCE_FILTER = 0\n",
    "SCENARIO = ''"
   ]
  },
  {
   "cell_type": "markdown",
   "metadata": {},
   "source": [
    "# Data Collection"
   ]
  },
  {
   "cell_type": "code",
   "execution_count": null,
   "metadata": {},
   "outputs": [],
   "source": [
    "import pandas as pd\n",
    "#from IPython.display import display\n",
    "\n",
    "dataset = pd.read_csv(DATASET_PATH, delimiter=',')\n",
    "\n",
    "target_labels = dataset['petrofacie']\n",
    "petrofacies = list(set(target_labels))\n",
    "dataset.index = [\n",
    "    str(i) + '-' + str(petrofacie)\n",
    "    for i, petrofacie in enumerate(dataset['petrofacie'])\n",
    "]\n",
    "targets = list(dataset['petrofacie'])\n",
    "\n",
    "del dataset['petrofacie']\n",
    "# del dataset['lamina:'] # Removing well ID\n",
    "\n",
    "feature_names = list(dataset.columns.values)\n",
    "# dataset.describe()"
   ]
  },
  {
   "cell_type": "markdown",
   "metadata": {},
   "source": [
    "## Variance Filtering"
   ]
  },
  {
   "cell_type": "code",
   "execution_count": null,
   "metadata": {},
   "outputs": [],
   "source": [
    "# print('from ' + str(dataset.shape[1]))\n",
    "# dataset = dataset.loc[:,dataset.std()>VARIANCE_FILTER]\n",
    "# print('to ' + str(dataset.shape[1]) + ' features')\n",
    "# processed_features = dataset.shape[1]"
   ]
  },
  {
   "cell_type": "code",
   "execution_count": null,
   "metadata": {},
   "outputs": [],
   "source": [
    "# dataset.describe()"
   ]
  },
  {
   "cell_type": "markdown",
   "metadata": {},
   "source": [
    "## Weightening"
   ]
  },
  {
   "cell_type": "code",
   "execution_count": null,
   "metadata": {},
   "outputs": [],
   "source": [
    "# dataset.loc[:, 'Main/single size mode(mm):'] *= 10"
   ]
  },
  {
   "cell_type": "markdown",
   "metadata": {},
   "source": [
    "## Data scalling"
   ]
  },
  {
   "cell_type": "code",
   "execution_count": null,
   "metadata": {},
   "outputs": [],
   "source": [
    "from sklearn.preprocessing import StandardScaler, RobustScaler\n",
    "from copy import deepcopy\n",
    "\n",
    "# scalled_dataset = deepcopy(dataset)\n",
    "# dataset[:] = StandardScaler().fit_transform(X=dataset)\n"
   ]
  },
  {
   "cell_type": "markdown",
   "metadata": {},
   "source": [
    "# Dendrogram Formation"
   ]
  },
  {
   "cell_type": "code",
   "execution_count": null,
   "metadata": {},
   "outputs": [],
   "source": [
    "import rpy2.robjects as robjects\n",
    "from rpy2.robjects import pandas2ri\n",
    "pandas2ri.activate()\n",
    "from rpy2.robjects.packages import importr\n",
    "from rpy2.robjects import r"
   ]
  },
  {
   "cell_type": "code",
   "execution_count": null,
   "metadata": {},
   "outputs": [],
   "source": [
    "N_CLUSTERS = 9\n",
    "\n",
    "dendextend = robjects.packages.importr('dendextend')\n",
    "\n",
    "distances = r.dist(dataset, method=\"manhattan\")\n",
    "dend = r['as.dendrogram'](r.hclust(distances, method=\"complete\"))\n",
    "dend = r.color_branches(dend, k=N_CLUSTERS)\n",
    "dend = r.color_labels(dend, k=N_CLUSTERS)\n",
    "dend = r.set(dend, 'branches_lwd', 3)\n",
    "dend = r.set(dend, 'labels_cex', .8)"
   ]
  },
  {
   "cell_type": "markdown",
   "metadata": {},
   "source": [
    "# Data Display"
   ]
  },
  {
   "cell_type": "code",
   "execution_count": null,
   "metadata": {},
   "outputs": [],
   "source": [
    "from rpy2.robjects import r\n",
    "import matplotlib.pyplot as plt\n",
    "import numpy as np\n",
    "from IPython.display import display"
   ]
  },
  {
   "cell_type": "markdown",
   "metadata": {},
   "source": [
    "## generated class labels\n",
    "Indexes from the dataset in the order presented in the dendrogram"
   ]
  },
  {
   "cell_type": "code",
   "execution_count": null,
   "metadata": {},
   "outputs": [],
   "source": [
    "leaves = list(r['order.dendrogram'](dend))\n",
    "leaves = [leave - 1 for leave in leaves]\n",
    "\n",
    "labels = list(r['cutree'](dend, k=N_CLUSTERS))\n",
    "labels = [labels[leaf] for leaf in leaves]\n",
    "set_labels = sorted(list(set(labels)), key=lambda x: labels.index(x))"
   ]
  },
  {
   "cell_type": "markdown",
   "metadata": {},
   "source": [
    "## plotting dendrogram\n",
    "Preprocessing to get a truthful representation of the classification and plot function in R"
   ]
  },
  {
   "cell_type": "code",
   "execution_count": null,
   "metadata": {},
   "outputs": [],
   "source": [
    "branches_colors = list(r.get_leaves_branches_col(dend))\n",
    "set_colors = sorted(\n",
    "    list(set(branches_colors)), key=lambda x: branches_colors.index(x))\n",
    "\n",
    "df = pd.DataFrame({\n",
    "    'labels': set_labels,\n",
    "    'colors': set_colors\n",
    "}).sort_values('labels')\n",
    "set_labels = df['labels']\n",
    "set_colors = df['colors']\n",
    "del df\n",
    "\n",
    "%reload_ext rpy2.ipython\n",
    "%R -w 1300  -i dend,set_labels,set_colors plot(dend); legend(\"topright\", legend = set_labels, fill = set_colors);\n",
    "display(dataset)"
   ]
  },
  {
   "cell_type": "markdown",
   "metadata": {},
   "source": [
    "## display features list with indexes"
   ]
  },
  {
   "cell_type": "code",
   "execution_count": null,
   "metadata": {},
   "outputs": [],
   "source": [
    "# pd.options.display.max_colwidth = 180\n",
    "# display(pd.DataFrame(dataset.columns.values, columns=['FEATURE']))"
   ]
  },
  {
   "cell_type": "markdown",
   "metadata": {},
   "source": [
    "## data plot per cluster\n",
    "Boxplot features grouped according to the samples clustered"
   ]
  },
  {
   "cell_type": "code",
   "execution_count": null,
   "metadata": {},
   "outputs": [],
   "source": [
    "# number_attributes = len(dataset.columns)\n",
    "# clusters = []\n",
    "# for label in set_labels:\n",
    "#     cluster_indexes = [leaves[i] for i, x in enumerate(labels) if x == label]\n",
    "#     cluster = np.matrix(dataset.iloc[cluster_indexes, :])\n",
    "#     clusters.append(cluster)\n",
    "\n",
    "#     plt.figure(figsize=(30, 7))\n",
    "#     instances_labels = list(dataset.index[cluster_indexes])\n",
    "#     ordered_petrofacies = [\n",
    "#         instance_label.split('-')[1] for instance_label in instances_labels\n",
    "#     ]\n",
    "#     plt.suptitle(\"Cluster \" + str(label) + '; ' + str(cluster.shape[0]) +\n",
    "#                  ' instances: ' + ','.join(instances_labels))\n",
    "\n",
    "#     plt.subplot(121)\n",
    "#     if cluster.shape[\n",
    "#             0] == 1:  # TEMPORARY WORKAROUND TO https://github.com/matplotlib/matplotlib/pull/8116\n",
    "#         cluster = np.vstack((cluster[0, :], cluster[0, :]))\n",
    "#     plt.boxplot(cluster, labeplt.figure(figsize=(30, 7))ls=range(0, len(dataset.columns)))\n",
    "#     plt.xlabel('feature index')\n",
    "#     plt.ylabel('percentage')\n",
    "#     plt.yticks(np.arange(0, np.amax(cluster)+1, 2.0))\n",
    "\n",
    "#     plt.subplot(122)\n",
    "#     cmap = plt.get_cmap('tab10')\n",
    "#     colors_mapping = dict(\n",
    "#         zip(petrofacies, cmap(np.linspace(0, 1, len(petrofacies)))))\n",
    "#     plot_colors = []\n",
    "#     for petrofacie in ordered_petrofacies:\n",
    "#         plot_colors.append(colors_mapping[petrofacie])\n",
    "\n",
    "#     for petrofacie, color, instance in zip(ordered_petrofacies, plot_colors,\n",
    "#                                            cluster):\n",
    "#         instance_arr = np.squeeze(np.asarray(instance))\n",
    "#         plt.plot(range(0, number_attributes),\n",
    "#             instance_arr,\n",
    "#             c=color,\n",
    "#             linewidth=.5)\n",
    "#         plt.scatter(\n",
    "#             range(0, number_attributes),\n",
    "#             instance_arr,\n",
    "#             c=color,\n",
    "#             label=petrofacie)\n",
    "\n",
    "#     plt.xlabel('feature index')\n",
    "#     plt.ylabel('percentage')\n",
    "#     plt.xticks(np.arange(0, number_attributes, 1.0))\n",
    "#     plt.yticks(np.arange(0, np.amax(cluster)+1, 2.0))\n",
    "#     plt.grid()\n",
    "#     plt.legend()\n",
    "\n",
    "#     plt.show()"
   ]
  },
  {
   "cell_type": "markdown",
   "metadata": {},
   "source": [
    "# Clustering Metrics"
   ]
  },
  {
   "cell_type": "code",
   "execution_count": null,
   "metadata": {},
   "outputs": [],
   "source": [
    "from sklearn import metrics\n",
    "from sklearn.metrics import silhouette_score, silhouette_samples\n",
    "\n",
    "dataset = pd.read_csv(DATASET_PATH, delimiter=',')\n",
    "dataset.index = [\n",
    "    str(i) + '-' + str(petrofacie)\n",
    "    for i, petrofacie in enumerate(dataset['petrofacie'])\n",
    "]\n",
    "\n",
    "ordered_labels = [-1]*len(targets)\n",
    "for i, leaf in enumerate(leaves):\n",
    "    ordered_labels[leaf] = labels[i]\n",
    "    \n",
    "ordered_labels =[label-1 for label in ordered_labels]\n",
    "\n",
    "grouping_df_list = [pd.DataFrame() for label in ordered_labels]\n",
    "\n",
    "for i, _ in enumerate(set(ordered_labels)):\n",
    "    grouping_df_list[i] = grouping_df_list[i].append(dataset[[label == i for label in ordered_labels]])\n"
   ]
  },
  {
   "cell_type": "code",
   "execution_count": null,
   "metadata": {},
   "outputs": [],
   "source": [
    "import papermill as pm\n",
    "\n",
    "pm.record('hello', 'world')\n",
    "\n",
    "pm.record('metric_adjusted_rand_score',  metrics.cluster.adjusted_rand_score(targets, ordered_labels))\n",
    "pm.record('metric_adjusted_mutual_info_score', metrics.cluster.adjusted_mutual_info_score(targets, ordered_labels))\n",
    "pm.record('metric_homogeneity_score', metrics.cluster.homogeneity_score(targets, ordered_labels))\n",
    "pm.record('metric_completeness_score',metrics.cluster.completeness_score(targets, ordered_labels))\n",
    "pm.record('metric_v_measure_score', metrics.cluster.v_measure_score(targets, ordered_labels))\n",
    "pm.record('processed_features', processed_features)\n",
    "pm.record('clusters_assignment', [group.to_dict() for group in grouping_df_list])"
   ]
  }
 ],
 "metadata": {
  "celltoolbar": "Tags",
  "kernelspec": {
   "display_name": "Python 3",
   "language": "python",
   "name": "python3"
  },
  "language_info": {
   "codemirror_mode": {
    "name": "ipython",
    "version": 3
   },
   "file_extension": ".py",
   "mimetype": "text/x-python",
   "name": "python",
   "nbconvert_exporter": "python",
   "pygments_lexer": "ipython3",
   "version": "3.6.2"
  },
  "toc": {
   "nav_menu": {},
   "number_sections": true,
   "sideBar": true,
   "skip_h1_title": false,
   "toc_cell": true,
   "toc_position": {},
   "toc_section_display": "block",
   "toc_window_display": false
  },
  "varInspector": {
   "cols": {
    "lenName": 16,
    "lenType": 16,
    "lenVar": 40
   },
   "kernels_config": {
    "python": {
     "delete_cmd_postfix": "",
     "delete_cmd_prefix": "del ",
     "library": "var_list.py",
     "varRefreshCmd": "print(var_dic_list())"
    },
    "r": {
     "delete_cmd_postfix": ") ",
     "delete_cmd_prefix": "rm(",
     "library": "var_list.r",
     "varRefreshCmd": "cat(var_dic_list()) "
    }
   },
   "position": {
    "height": "589px",
    "left": "1282px",
    "right": "-12px",
    "top": "39px",
    "width": "490px"
   },
   "types_to_exclude": [
    "module",
    "function",
    "builtin_function_or_method",
    "instance",
    "_Feature"
   ],
   "window_display": false
  }
 },
 "nbformat": 4,
 "nbformat_minor": 2
}
