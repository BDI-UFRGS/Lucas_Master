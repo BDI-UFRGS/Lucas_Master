{
 "cells": [
  {
   "cell_type": "markdown",
   "metadata": {
    "toc": "true"
   },
   "source": [
    " # Table of Contents\n",
    "<div class=\"toc\" style=\"margin-top: 1em;\"><ul class=\"toc-item\" id=\"toc-level0\"><li><span><a href=\"http://localhost:8888/notebooks/kmeans.ipynb#Cell-Formatting\" data-toc-modified-id=\"Cell-Formatting-1\"><span class=\"toc-item-num\">1&nbsp;&nbsp;</span>Cell Formatting</a></span></li><li><span><a href=\"http://localhost:8888/notebooks/kmeans.ipynb#Data-Collection\" data-toc-modified-id=\"Data-Collection-2\"><span class=\"toc-item-num\">2&nbsp;&nbsp;</span>Data Collection</a></span><ul class=\"toc-item\"><li><span><a href=\"http://localhost:8888/notebooks/kmeans.ipynb#Weightening\" data-toc-modified-id=\"Weightening-2.1\"><span class=\"toc-item-num\">2.1&nbsp;&nbsp;</span>Weightening</a></span></li><li><span><a href=\"http://localhost:8888/notebooks/kmeans.ipynb#Data-scalling\" data-toc-modified-id=\"Data-scalling-2.2\"><span class=\"toc-item-num\">2.2&nbsp;&nbsp;</span>Data scalling</a></span></li><li><span><a href=\"http://localhost:8888/notebooks/kmeans.ipynb#Data-display\" data-toc-modified-id=\"Data-display-2.3\"><span class=\"toc-item-num\">2.3&nbsp;&nbsp;</span>Data display</a></span></li></ul></li><li><span><a href=\"http://localhost:8888/notebooks/kmeans.ipynb#Clustering-Stage\" data-toc-modified-id=\"Clustering-Stage-3\"><span class=\"toc-item-num\">3&nbsp;&nbsp;</span>Clustering Stage</a></span><ul class=\"toc-item\"><li><span><a href=\"http://localhost:8888/notebooks/kmeans.ipynb#display-features-list-with-indexes\" data-toc-modified-id=\"display-features-list-with-indexes-3.1\"><span class=\"toc-item-num\">3.1&nbsp;&nbsp;</span>display features list with indexes</a></span></li><li><span><a href=\"http://localhost:8888/notebooks/kmeans.ipynb#data-plot-per-cluster\" data-toc-modified-id=\"data-plot-per-cluster-3.2\"><span class=\"toc-item-num\">3.2&nbsp;&nbsp;</span>data plot per cluster</a></span></li></ul></li><li><span><a href=\"http://localhost:8888/notebooks/kmeans.ipynb#Clustering-Metrics\" data-toc-modified-id=\"Clustering-Metrics-4\"><span class=\"toc-item-num\">4&nbsp;&nbsp;</span>Clustering Metrics</a></span></li></ul></div>"
   ]
  },
  {
   "cell_type": "markdown",
   "metadata": {},
   "source": [
    "# Cell Formatting"
   ]
  },
  {
   "cell_type": "code",
   "execution_count": null,
   "metadata": {},
   "outputs": [],
   "source": [
    "from IPython.core.display import display, HTML\n",
    "display(HTML(\"<style>.container { width:100% !important; }</style>\"))"
   ]
  },
  {
   "cell_type": "markdown",
   "metadata": {},
   "source": [
    "# Data Collection"
   ]
  },
  {
   "cell_type": "code",
   "execution_count": null,
   "metadata": {},
   "outputs": [],
   "source": [
    "import pandas as pd\n",
    "from IPython.display import display\n",
    "\n",
    "dataset = pd.read_csv(\n",
    "    './../POLVO/IA_FILES/reduced_thin_sections.csv', delimiter=',')\n",
    "\n",
    "pd.options.display.max_columns = None\n",
    "pd.options.display.max_rows = None\n",
    "\n",
    "target_labels = dataset['Petrofacie']\n",
    "petrofacies = list(set(target_labels))\n",
    "dataset.index = [\n",
    "    str(i) + '-' + str(petrofacie)\n",
    "    for i, petrofacie in enumerate(dataset['Petrofacie'])\n",
    "]\n",
    "targets = list(dataset['Petrofacie'])\n",
    "\n",
    "del dataset['Petrofacie']\n",
    "# del dataset['Main/single size mode(mm):']\n",
    "    \n",
    "feature_names = list(dataset.columns.values)"
   ]
  },
  {
   "cell_type": "markdown",
   "metadata": {},
   "source": [
    "## Weightening"
   ]
  },
  {
   "cell_type": "code",
   "execution_count": null,
   "metadata": {},
   "outputs": [],
   "source": [
    "# dataset.loc[:, 'Main/single size mode(mm):'] *= 10"
   ]
  },
  {
   "cell_type": "markdown",
   "metadata": {},
   "source": [
    "## Data scalling"
   ]
  },
  {
   "cell_type": "code",
   "execution_count": null,
   "metadata": {},
   "outputs": [],
   "source": [
    "from sklearn.preprocessing import StandardScaler, RobustScaler\n",
    "from copy import deepcopy\n",
    "\n",
    "dataset[:] = StandardScaler().fit_transform(X=dataset)"
   ]
  },
  {
   "cell_type": "markdown",
   "metadata": {},
   "source": [
    "## Data display"
   ]
  },
  {
   "cell_type": "code",
   "execution_count": null,
   "metadata": {},
   "outputs": [],
   "source": [
    "display(dataset)"
   ]
  },
  {
   "cell_type": "markdown",
   "metadata": {},
   "source": [
    "# Clustering Stage"
   ]
  },
  {
   "cell_type": "code",
   "execution_count": null,
   "metadata": {},
   "outputs": [],
   "source": [
    "from sklearn.cluster import KMeans\n",
    "import numpy as np\n",
    "\n",
    "np.set_printoptions(linewidth=162)\n",
    "km = KMeans(n_clusters=10, init='random', n_init=2, max_iter=30, n_jobs=8, algorithm='fwkm').fit(dataset)"
   ]
  },
  {
   "cell_type": "code",
   "execution_count": null,
   "metadata": {},
   "outputs": [],
   "source": [
    "leaves = list(range(dataset.shape[0]))\n",
    "\n",
    "labels = list(km.labels_)\n",
    "set_labels = sorted(list(set(labels)), key=lambda x: labels.index(x))"
   ]
  },
  {
   "cell_type": "markdown",
   "metadata": {},
   "source": [
    "## display features list with indexes"
   ]
  },
  {
   "cell_type": "code",
   "execution_count": null,
   "metadata": {},
   "outputs": [],
   "source": [
    "pd.options.display.max_colwidth = 180\n",
    "display(pd.DataFrame(feature_names, columns=['FEATURE']))"
   ]
  },
  {
   "cell_type": "markdown",
   "metadata": {},
   "source": [
    "## data plot per cluster\n",
    "Boxplot features grouped according to the samples clustered"
   ]
  },
  {
   "cell_type": "code",
   "execution_count": null,
   "metadata": {},
   "outputs": [],
   "source": [
    "import numpy as np\n",
    "import matplotlib.pyplot as plt\n",
    "\n",
    "number_attributes = len(dataset.columns)\n",
    "clusters = []\n",
    "for label in set_labels:\n",
    "    cluster_indexes = [leaves[i] for i, x in enumerate(labels) if x == label]\n",
    "    cluster = np.matrix(dataset.iloc[cluster_indexes, :])\n",
    "    clusters.append(cluster)\n",
    "\n",
    "    plt.figure(figsize=(30, 7))\n",
    "    instances_labels = list(dataset.index[cluster_indexes])\n",
    "    ordered_petrofacies = [\n",
    "        instance_label.split('-')[1] for instance_label in instances_labels\n",
    "    ]\n",
    "    plt.suptitle(\"Cluster \" + str(label) + '; ' + str(cluster.shape[0]) +\n",
    "                 ' instances: ' + ','.join(instances_labels))\n",
    "\n",
    "    plt.subplot(121)\n",
    "    if cluster.shape[\n",
    "            0] == 1:  # TEMPORARY WORKAROUND TO https://github.com/matplotlib/matplotlib/pull/8116\n",
    "        cluster = np.vstack((cluster[0, :], cluster[0, :]))\n",
    "    plt.boxplot(cluster, labels=range(0, len(dataset.columns)))\n",
    "    plt.xlabel('feature index')\n",
    "    plt.ylabel('percentage')\n",
    "    plt.yticks(np.arange(0, np.amax(cluster)+1, 2.0))\n",
    "\n",
    "    plt.subplot(122)\n",
    "    cmap = plt.get_cmap('tab10')\n",
    "    colors_mapping = dict(\n",
    "        zip(petrofacies, cmap(np.linspace(0, 1, len(petrofacies)))))\n",
    "    plot_colors = []\n",
    "    for petrofacie in ordered_petrofacies:\n",
    "        plot_colors.append(colors_mapping[petrofacie])\n",
    "\n",
    "    for petrofacie, color, instance in zip(ordered_petrofacies, plot_colors,\n",
    "                                           cluster):\n",
    "        instance_arr = np.squeeze(np.asarray(instance))\n",
    "        plt.plot(range(0, number_attributes),\n",
    "            instance_arr,\n",
    "            c=color,\n",
    "            linewidth=.5)\n",
    "        plt.scatter(\n",
    "            range(0, number_attributes),\n",
    "            instance_arr,\n",
    "            c=color,\n",
    "            label=petrofacie)\n",
    "\n",
    "    plt.xlabel('feature index')\n",
    "    plt.ylabel('percentage')\n",
    "    plt.xticks(np.arange(0, number_attributes, 1.0))\n",
    "    plt.yticks(np.arange(0, np.amax(cluster)+1, 2.0))\n",
    "    plt.grid()\n",
    "    plt.legend()\n",
    "\n",
    "    plt.show()"
   ]
  },
  {
   "cell_type": "markdown",
   "metadata": {},
   "source": [
    "# Clustering Metrics"
   ]
  },
  {
   "cell_type": "code",
   "execution_count": null,
   "metadata": {},
   "outputs": [],
   "source": [
    "from sklearn import metrics\n",
    "\n",
    "ordered_labels = [-1]*len(targets)\n",
    "for i, leaf in enumerate(leaves):\n",
    "    ordered_labels[leaf] = labels[i]\n",
    "    \n",
    "ordered_labels =[label-1 for label in ordered_labels]\n",
    "\n",
    "print('adjusted_rand_score :\\t\\t' + str(metrics.cluster.adjusted_rand_score(targets, ordered_labels)))\n",
    "print('adjusted_mutual_info_score :\\t' + str(metrics.cluster.adjusted_mutual_info_score(targets, ordered_labels)))\n",
    "print('homogeneity_score :\\t\\t' + str(metrics.cluster.homogeneity_score(targets, ordered_labels)))\n",
    "print('completeness_score :\\t\\t' + str(metrics.cluster.completeness_score(targets, ordered_labels)))\n",
    "print('v_measure_score :\\t\\t' + str(metrics.cluster.v_measure_score(targets, ordered_labels)))\n"
   ]
  },
  {
   "cell_type": "code",
   "execution_count": null,
   "metadata": {},
   "outputs": [],
   "source": []
  }
 ],
 "metadata": {
  "kernelspec": {
   "display_name": "Python 3",
   "language": "python",
   "name": "python3"
  },
  "language_info": {
   "codemirror_mode": {
    "name": "ipython",
    "version": 3
   },
   "file_extension": ".py",
   "mimetype": "text/x-python",
   "name": "python",
   "nbconvert_exporter": "python",
   "pygments_lexer": "ipython3",
   "version": "3.6.1"
  },
  "toc": {
   "nav_menu": {},
   "number_sections": true,
   "sideBar": true,
   "skip_h1_title": false,
   "toc_cell": true,
   "toc_position": {},
   "toc_section_display": "block",
   "toc_window_display": false
  },
  "varInspector": {
   "cols": {
    "lenName": 16,
    "lenType": 16,
    "lenVar": 40
   },
   "kernels_config": {
    "python": {
     "delete_cmd_postfix": "",
     "delete_cmd_prefix": "del ",
     "library": "var_list.py",
     "varRefreshCmd": "print(var_dic_list())"
    },
    "r": {
     "delete_cmd_postfix": ") ",
     "delete_cmd_prefix": "rm(",
     "library": "var_list.r",
     "varRefreshCmd": "cat(var_dic_list()) "
    }
   },
   "position": {
    "height": "589px",
    "left": "1282px",
    "right": "-12px",
    "top": "39px",
    "width": "490px"
   },
   "types_to_exclude": [
    "module",
    "function",
    "builtin_function_or_method",
    "instance",
    "_Feature"
   ],
   "window_display": false
  }
 },
 "nbformat": 4,
 "nbformat_minor": 2
}
