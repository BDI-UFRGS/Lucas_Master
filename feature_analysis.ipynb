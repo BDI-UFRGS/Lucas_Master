{
 "cells": [
  {
   "cell_type": "code",
   "execution_count": null,
   "metadata": {},
   "outputs": [],
   "source": [
    "import re\n",
    "import seaborn as sns; sns.set()\n",
    "import matplotlib.pyplot as plt\n",
    "import pandas as pd\n",
    "import numpy as np\n",
    "from utils import heatmap_features\n",
    "import csv"
   ]
  },
  {
   "cell_type": "code",
   "execution_count": null,
   "metadata": {},
   "outputs": [],
   "source": [
    "df_heatmap = heatmap_features('../datasets/polvo/full_scenario/dataset.csv')\n",
    "df_heatmap2 = heatmap_features('../datasets/MargemEquatorial/full_scenario/dataset.csv')"
   ]
  },
  {
   "cell_type": "code",
   "execution_count": null,
   "metadata": {},
   "outputs": [],
   "source": [
    "for typee in df_heatmap:\n",
    "    print(typee)\n",
    "    for i, df in enumerate(df_heatmap[typee]):\n",
    "        print(i)\n",
    "        fig, axes = plt.subplots(1, 2, figsize=(40,10))\n",
    "#         vmax = max(max(df_heatmap[typee][i].max()), max(df_heatmap2[typee][i].max()))\n",
    "        sns.heatmap(df_heatmap[typee][i], ax=axes[0])\n",
    "        sns.heatmap(df_heatmap2[typee][i], ax=axes[1])\n",
    "        plt.tight_layout()\n",
    "        plt.savefig('plot'+typee+str(i)+'.png')\n",
    "        plt.show()"
   ]
  },
  {
   "cell_type": "code",
   "execution_count": null,
   "metadata": {},
   "outputs": [],
   "source": [
    "# df = pd.read_csv('../datasets/polvo/full_scenario/dataset.csv', index_col='petrofacie')\n",
    "# df = df.sort_index()\n",
    "# del df['Unnamed: 0']\n",
    "\n",
    "# sns.clustermap(df, metric='cityblock', method='complete', figsize=(30,30))\n",
    "# plt.show()"
   ]
  },
  {
   "cell_type": "code",
   "execution_count": null,
   "metadata": {},
   "outputs": [],
   "source": [
    "# import somoclu\n",
    "# import numpy as np\n",
    "# import matplotlib.pyplot as plt\n",
    "\n",
    "# # c1 = np.random.rand(50, 2)/5\n",
    "# # c2 = (0.2, 0.5) + np.random.rand(50, 2)/5\n",
    "# # c3 = (0.4, 0.1) + np.random.rand(50, 2)/5\n",
    "# # data = np.float32(np.concatenate((c1, c2, c3)))\n",
    "# # colors = [\"red\"] * 50\n",
    "# # colors.extend([\"green\"] * 50)\n",
    "# # colors.extend([\"blue\"] * 50)\n",
    "\n",
    "# n_rows, n_columns = 1000,1000\n",
    "# som = somoclu.Somoclu(n_columns, n_rows, maptype=\"planar\",\n",
    "#                       gridtype=\"rectangular\")\n",
    "# som.train(df.as_matrix(), epochs=100)\n",
    "# som.view_activation_map(data_index=0, labels=df.columns.values)\n",
    "# som.view_activation_map(data_index=52, labels=df.columns.values)\n",
    "# som.view_umatrix(bestmatches=True, labels=df.index.values)"
   ]
  }
 ],
 "metadata": {
  "kernelspec": {
   "display_name": "Python 3",
   "language": "python",
   "name": "python3"
  },
  "language_info": {
   "codemirror_mode": {
    "name": "ipython",
    "version": 3
   },
   "file_extension": ".py",
   "mimetype": "text/x-python",
   "name": "python",
   "nbconvert_exporter": "python",
   "pygments_lexer": "ipython3",
   "version": "3.6.1"
  },
  "toc": {
   "nav_menu": {},
   "number_sections": true,
   "sideBar": true,
   "skip_h1_title": false,
   "toc_cell": false,
   "toc_position": {},
   "toc_section_display": "block",
   "toc_window_display": false
  },
  "varInspector": {
   "cols": {
    "lenName": 16,
    "lenType": 16,
    "lenVar": 40
   },
   "kernels_config": {
    "python": {
     "delete_cmd_postfix": "",
     "delete_cmd_prefix": "del ",
     "library": "var_list.py",
     "varRefreshCmd": "print(var_dic_list())"
    },
    "r": {
     "delete_cmd_postfix": ") ",
     "delete_cmd_prefix": "rm(",
     "library": "var_list.r",
     "varRefreshCmd": "cat(var_dic_list()) "
    }
   },
   "types_to_exclude": [
    "module",
    "function",
    "builtin_function_or_method",
    "instance",
    "_Feature"
   ],
   "window_display": false
  }
 },
 "nbformat": 4,
 "nbformat_minor": 2
}
